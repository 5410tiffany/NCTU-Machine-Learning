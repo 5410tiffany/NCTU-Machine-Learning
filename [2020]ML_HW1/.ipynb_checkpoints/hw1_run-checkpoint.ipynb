{
 "cells": [
  {
   "cell_type": "code",
   "execution_count": 1,
   "metadata": {},
   "outputs": [],
   "source": [
    "import numpy as np\n",
    "import pandas as pd\n",
    "from itertools import combinations_with_replacement\n",
    "import math\n",
    "import pdb\n",
    "import matplotlib.pyplot as plt"
   ]
  },
  {
   "cell_type": "code",
   "execution_count": 2,
   "metadata": {},
   "outputs": [],
   "source": [
    "path_T = 'dataset/data_T.csv'\n",
    "path_X = 'dataset/data_X.csv'\n",
    "T = pd.read_csv(path_T)\n",
    "X = pd.read_csv(path_X)\n",
    "\n",
    "# divide train test\n",
    "train_y = T[:400].iloc[:,1] # 400, 2\n",
    "train_x = X[:400].iloc[:,1:] # 400, 8\n",
    "test_y = T[400:].iloc[:,1] # 100 ,2\n",
    "test_x = X[400:].iloc[:,1:] # 100, 8\n",
    "\n",
    "\n",
    "train_y = np.array(train_y)\n",
    "train_x = np.array(train_x)\n",
    "test_y = np.array(test_y)\n",
    "test_x = np.array(test_x)\n",
    "data_x = np.array(X.iloc[:,1:])\n",
    "data_y = np.array(T.iloc[:,1:])"
   ]
  },
  {
   "cell_type": "markdown",
   "metadata": {},
   "source": [
    "# 1-(a) "
   ]
  },
  {
   "cell_type": "code",
   "execution_count": null,
   "metadata": {},
   "outputs": [],
   "source": [
    "\n",
    "\n",
    "def get_w(x, y):\n",
    "    #print(x.shape)\n",
    "    #print(y.shape)\n",
    "    #pdb.set_trace()\n",
    "#     print(np.linalg.inv(x.T.dot(x)))\n",
    "    return np.linalg.pinv(x.T.dot(x)).dot(x.T).dot(y)\n",
    "\n",
    "\n",
    "def RMS(pred, true):\n",
    "    return 0.5 / pred.shape[0] * np.sum((pred - true) ** 2)\n",
    "\n",
    "def getPhi(data, M):\n",
    "    phi = []\n",
    "    x_num = [1] \n",
    "\n",
    "    for i in range(1, M + 1):\n",
    "        permutation = list(combinations_with_replacement(range(data.shape[1]), i)) # C7取2\n",
    "        x_num.append(len(permutation) + x_num[i - 1]) # 計算M次方的x項數\n",
    "        phi.extend(permutation)\n",
    "#     print(permutation)\n",
    "#     print(len(phi))\n",
    "#     print(x_num)\n",
    "#     print(phi)\n",
    "\n",
    "    phi_matrix = np.ones((len(data), len(phi) + 1)) # 直接加上bias\n",
    "#     print(phi_matrix.shape)\n",
    "    x_num = np.asarray(x_num)\n",
    "#    print(x_num.shape)\n",
    "\n",
    "    for row in range(len(data)):\n",
    "        for col in range(len(phi)):\n",
    "            sum = 1\n",
    "            K = np.sort(np.argwhere(col + 1 >= x_num))[-1] # 判斷phi的項數屬於多少次方\n",
    "#             print(K)\n",
    "            for k in range(K[0] + 1):\n",
    "#                 print(phi[col][k - 1])\n",
    "#                 print(data.shape)\n",
    "#                 pdb.set_trace()\n",
    "#                 print(data[row][phi[col][k - 1]])\n",
    "                sum *= data[row][phi[col][k - 1]] # 根據排列組合的索引值對data的值進行連乘\n",
    "            phi_matrix[row][col + 1] = sum # 將連乘後的值填入phi矩陣\n",
    " #   print(phi_matrix)\n",
    "    return phi_matrix"
   ]
  },
  {
   "cell_type": "code",
   "execution_count": 4,
   "metadata": {},
   "outputs": [
    {
     "name": "stdout",
     "output_type": "stream",
     "text": [
      "m1 train RMS:  0.0019934466216234565\n",
      "m1 test RMS:  0.0009215872187913405\n",
      "m2 train RMS:  0.0018094295222051819\n",
      "m2 test RMS:  0.0011976645111656872\n"
     ]
    }
   ],
   "source": [
    "# m = 1\n",
    "# print(train_x.shape)\n",
    "phi1 = getPhi(train_x, 1)\n",
    "phi1_val = getPhi(test_x,1)\n",
    "\n",
    "w1 = get_w(phi1, train_y) #w.shape \n",
    "print('m1 train RMS: ', RMS(phi1.dot(w1), train_y))\n",
    "print('m1 test RMS: ', RMS(phi1_val.dot(w1), test_y))\n",
    "\n",
    "\n",
    "# m = 2\n",
    "#print(train_x.shape)\n",
    "phi2 = getPhi(train_x, 2) #phi.shape = (400,36)\n",
    "phi2_val = getPhi(test_x, 2)\n",
    "\n",
    "w2 = get_w(phi2, train_y)#w.shape = (36,1)\n",
    "print('m2 train RMS: ', RMS(phi2.dot(w2), train_y))\n",
    "print('m2 test RMS: ', RMS(phi2_val.dot(w2), test_y))\n",
    "\n"
   ]
  },
  {
   "cell_type": "markdown",
   "metadata": {},
   "source": [
    "# 1-(b)"
   ]
  },
  {
   "cell_type": "code",
   "execution_count": 5,
   "metadata": {},
   "outputs": [
    {
     "name": "stdout",
     "output_type": "stream",
     "text": [
      "(400, 1)\n",
      "0 th train RMS:  0.0036091489959339798\n",
      "0 th test RMS:  0.0026361783973926694\n",
      "(400, 1)\n",
      "1 th train RMS:  0.0037872906029148036\n",
      "1 th test RMS:  0.003368068809478711\n",
      "(400, 1)\n",
      "2 th train RMS:  0.005012033091845288\n",
      "2 th test RMS:  0.006083180204366517\n",
      "(400, 1)\n",
      "3 th train RMS:  0.005511725721569839\n",
      "3 th test RMS:  0.004399748078352542\n",
      "(400, 1)\n",
      "4 th train RMS:  0.0055914778444415125\n",
      "4 th test RMS:  0.006857620522137044\n",
      "(400, 1)\n",
      "5 th train RMS:  0.0024076733882470443\n",
      "5 th test RMS:  0.0013894209769821876\n",
      "(400, 1)\n",
      "6 th train RMS:  0.0070391116766315995\n",
      "6 th test RMS:  0.0067946790305709005\n"
     ]
    },
    {
     "data": {
      "text/plain": [
       "Text(0, 0.5, 'RMS')"
      ]
     },
     "execution_count": 5,
     "metadata": {},
     "output_type": "execute_result"
    },
    {
     "data": {
      "image/png": "[encoded data removed]",
      "text/plain": [
       "<Figure size 432x288 with 1 Axes>"
      ]
     },
     "metadata": {
      "needs_background": "light"
     },
     "output_type": "display_data"
    }
   ],
   "source": [
    "train_loss = []\n",
    "test_loss = []\n",
    "for i in range(train_x.shape[1]):\n",
    "    subset = train_x[:,i].reshape(-1,1)\n",
    "    subset_val = test_x[:,i].reshape(-1, 1)\n",
    "    print(subset.shape)\n",
    "    phi_sub = getPhi(subset, 1)\n",
    "    phi_val = getPhi(subset_val,1)\n",
    "    w_sub = get_w(phi_sub, train_y)\n",
    "    \n",
    "    RMS_train = RMS(phi_sub.dot(w_sub), train_y)\n",
    "    RMS_test = RMS(phi_val.dot(w_sub), test_y)\n",
    "    train_loss.append(RMS_train)\n",
    "    test_loss.append(RMS_test)\n",
    "    \n",
    "    print(i, 'th train RMS: ', RMS_train)\n",
    "    print(i, 'th test RMS: ', RMS_test)\n",
    "\n",
    "column_names = X.columns.to_list()\n",
    "\n",
    "plt.plot(column_names[1:], train_loss, label = 'train RMS of ith feature')\n",
    "plt.plot(column_names[1:], test_loss, label = 'test RMS of ith feature')\n",
    "#plt.xlim([1,7])\n",
    "plt.legend(loc='best')\n",
    "plt.xlabel('ith feature')\n",
    "plt.ylabel('RMS')\n",
    "\n",
    "\n"
   ]
  },
  {
   "cell_type": "markdown",
   "metadata": {},
   "source": [
    "# 2-(a)(b): explain which is better"
   ]
  },
  {
   "cell_type": "code",
   "execution_count": 24,
   "metadata": {},
   "outputs": [],
   "source": [
    "#gaussian basis func.\n",
    "def get_Gaussian(x, mu, std):\n",
    "    gaussian = np.exp(-1 * (x-mu)**2 / (2 * std**2))\n",
    "    return gaussian\n",
    "\n",
    "# sigmoidial basis func.\n",
    "def get_Sigmoidial(x, mu, std):\n",
    "    a = (x - mu)/std\n",
    "    sigmoidial =  1 / (1 + np.exp(-a))\n",
    "    return sigmoidial\n",
    "    \n",
    "\n",
    "# Phi\n",
    "def get_BasisPhi(x, basis):\n",
    "    phi_matrix = np.zeros(x.shape)\n",
    "    \n",
    "    if basis == 'Gaussian':\n",
    "        for i in range(x.shape[1]):\n",
    "            phi_matrix[:,i] = get_Gaussian(x[:,i], np.mean(x[:,i]), np.std(x[:,i]))\n",
    "    \n",
    "    if basis == 'Sigmoidial':\n",
    "        for i in range(x.shape[1]):\n",
    "            phi_matrix[:,i] = get_Sigmoidial(x[:,i], np.mean(x[:,i]), np.std(x[:,i]))\n",
    "          \n",
    "    return phi_matrix\n",
    "\n",
    "\n"
   ]
  },
  {
   "cell_type": "code",
   "execution_count": 25,
   "metadata": {},
   "outputs": [
    {
     "name": "stdout",
     "output_type": "stream",
     "text": [
      "train Gaussian RMS:  0.006947384788850148\n",
      "test Gaussian RMS:  0.011010873045192356\n",
      "train Sigmoidial RMS:  0.010287434531648928\n",
      "test Sigmoidial RMS:  0.007355550359081617\n"
     ]
    }
   ],
   "source": [
    "Gphi = get_BasisPhi(train_x, basis = 'Gaussian')\n",
    "Gphi_val = get_BasisPhi(test_x, basis = 'Gaussian')\n",
    "\n",
    "Sphi = get_BasisPhi(train_x, basis = 'Sigmoidial')\n",
    "Sphi_val = get_BasisPhi(test_x, basis = 'Sigmoidial')\n",
    "\n",
    "Gw = get_w(Gphi, train_y)\n",
    "GRMS = RMS(Gphi.dot(Gw), train_y)\n",
    "GRMS_val = RMS(Gphi_val.dot(Gw), test_y)\n",
    "\n",
    "Sw = get_w(Sphi, train_y)\n",
    "SRMS = RMS(Sphi.dot(Sw), train_y)\n",
    "SRMS_val = RMS(Sphi_val.dot(Sw), test_y)\n",
    "\n",
    "print('train Gaussian RMS: ', GRMS)\n",
    "print('test Gaussian RMS: ', GRMS_val)\n",
    "print('train Sigmoidial RMS: ', SRMS)\n",
    "print('test Sigmoidial RMS: ', SRMS_val)\n"
   ]
  },
  {
   "cell_type": "markdown",
   "metadata": {},
   "source": [
    "# 2-(c)"
   ]
  },
  {
   "cell_type": "code",
   "execution_count": 26,
   "metadata": {},
   "outputs": [],
   "source": [
    "def cross_validation(k, x, y):\n",
    "    split_size = int(len(x) / k) \n",
    "    train_err = 0.0\n",
    "    valid_err = 0.0\n",
    "\n",
    "    \n",
    "    for i in range(k):\n",
    "        range_idx = range(i * split_size, i * split_size + split_size)\n",
    "        cross_valid_X = x[range_idx] #80, 7\n",
    "        cross_valid_Y = y[range_idx] #80\n",
    "        cross_train_X = x[list(set(range(len(x))) - set(range_idx))] #320,7\n",
    "        cross_train_Y = y[list(set(range(len(x))) - set(range_idx))] #320.\n",
    "        #pdb.set_trace()\n",
    "#         print(cross_valid_X.shape)\n",
    "#         print(cross_valid_Y.shape)\n",
    "#         print(cross_train_X.shape)\n",
    "#         print(cross_train_Y.shape)\n",
    "        \n",
    "        cross_train_phi = get_BasisPhi(cross_train_X, basis = 'Sigmoidial')\n",
    "        cross_valid_phi = get_BasisPhi(cross_valid_X, basis = 'Sigmoidial')\n",
    "#         cross_train_phi = get_BasisPhi(cross_train_X, basis = 'Gaussian')\n",
    "#         cross_valid_phi = get_BasisPhi(cross_valid_X, basis = 'Gaussian')\n",
    "        \n",
    "#         cross_w = get_w(cross_train_phi, cross_train_Y)\n",
    "        cross_w = get_MAPw(cross_train_phi, cross_train_Y, lamda = 5)\n",
    "        \n",
    "        \n",
    "#         print(cross_train_phi.dot(cross_w)[0])\n",
    "#         print(cross_train_Y[0])\n",
    "        \n",
    "\n",
    "        train_err += RMS(cross_train_phi.dot(cross_w), cross_train_Y)\n",
    "        valid_err += RMS(cross_valid_phi.dot(cross_w), cross_valid_Y)\n",
    "   \n",
    "    train_mean_loss = train_err / k\n",
    "    valid_mean_loss = valid_err / k\n",
    "    return train_mean_loss, valid_mean_loss, cross_w\n",
    "\n",
    "\n",
    "train_mean_loss, valid_mean_loss, cross_w = cross_validation(5, data_x, data_y)"
   ]
  },
  {
   "cell_type": "code",
   "execution_count": 27,
   "metadata": {},
   "outputs": [
    {
     "data": {
      "image/png": "[encoded data removed]",
      "text/plain": [
       "<Figure size 432x288 with 1 Axes>"
      ]
     },
     "metadata": {
      "needs_background": "light"
     },
     "output_type": "display_data"
    }
   ],
   "source": [
    "# choose k-fold to be hyperparameter\n",
    "train_order_list = []\n",
    "valid_order_list = []\n",
    "test_order_list = []\n",
    "\n",
    "for i in range(2, 20):\n",
    "    train_mean_loss, valid_mean_loss, cross_w = cross_validation(i, train_x, train_y)\n",
    "    ctest_phi = get_BasisPhi(test_x, basis = 'Gaussian')\n",
    "    cRMS = RMS(ctest_phi.dot(cross_w), test_y)\n",
    "    \n",
    "    \n",
    "    train_order_list.append(train_mean_loss)\n",
    "    valid_order_list.append(valid_mean_loss)\n",
    "    test_order_list.append(cRMS)\n",
    "    \n",
    "\n",
    "plt.plot(list(range(2,20)), train_order_list, label='train')\n",
    "plt.plot(list(range(2,20)), valid_order_list, label='validation')\n",
    "plt.plot(list(range(2,20)), test_order_list, label='test RMS')\n",
    "plt.legend(loc='best')\n",
    "plt.xlabel('k-fold')\n",
    "#plt.xticks(range(11), labels=range(5, 16))\n",
    "plt.ylabel('RMS')\n",
    "plt.show()\n"
   ]
  },
  {
   "cell_type": "markdown",
   "metadata": {},
   "source": [
    "# 3-(a)"
   ]
  },
  {
   "cell_type": "code",
   "execution_count": 16,
   "metadata": {},
   "outputs": [],
   "source": [
    "def get_MAPw(x, y, lamda):\n",
    "    return np.linalg.inv(x.T.dot(x) + lamda * np.eye(x.shape[1])).dot(x.T).dot(y)"
   ]
  },
  {
   "cell_type": "code",
   "execution_count": 17,
   "metadata": {},
   "outputs": [
    {
     "name": "stdout",
     "output_type": "stream",
     "text": [
      "train RMS: 0.006947384788850148\n",
      "test RMS: 0.011010873045192462\n",
      "train RMS: 0.006947384788850151\n",
      "test RMS: 0.011010872912754044\n",
      "train RMS: 0.0069473847888503\n",
      "test RMS: 0.01101087172080917\n",
      "train RMS: 0.006947384788865248\n",
      "test RMS: 0.0110108598013879\n",
      "train RMS: 0.006947384790359985\n",
      "test RMS: 0.011010740609954096\n",
      "train RMS: 0.006947384939809051\n",
      "test RMS: 0.011009548973374542\n",
      "train RMS: 0.006947399860144699\n",
      "test RMS: 0.010997660342157451\n",
      "train RMS: 0.006948867659931983\n",
      "test RMS: 0.01088150673510793\n",
      "train RMS: 0.006981935415382571\n",
      "test RMS: 0.010421181308784546\n",
      "train RMS: 0.007074400339374401\n",
      "test RMS: 0.009957254405455309\n",
      "train RMS: 0.007074400339374401\n",
      "test RMS: 0.009957254405455309\n",
      "train RMS: 0.007381150253159634\n",
      "test RMS: 0.009315750782639147\n",
      "train RMS: 0.0077909818506550835\n",
      "test RMS: 0.008948721525766638\n",
      "train RMS: 0.00875144417441323\n",
      "test RMS: 0.008716298794770287\n",
      "train RMS: 0.009255178287051484\n",
      "test RMS: 0.008753804045795495\n"
     ]
    },
    {
     "data": {
      "image/png": "[encoded data removed]",
      "text/plain": [
       "<Figure size 432x288 with 1 Axes>"
      ]
     },
     "metadata": {
      "needs_background": "light"
     },
     "output_type": "display_data"
    }
   ],
   "source": [
    "Gphi = get_BasisPhi(train_x, basis = 'Gaussian')\n",
    "Gphi_val = get_BasisPhi(test_x, basis = 'Gaussian')\n",
    "\n",
    "lamda_ls = [0, 10e-8,10e-7,10e-6,10e-5, 10e-4, 10e-3, 10e-2, 0.5, 10e-1, 1, 2, 3, 5,6]\n",
    "MAPRMS_ls = []\n",
    "MAPRMS_val_ls = []\n",
    "# print(len(lamda_ls)\n",
    "\n",
    "for i in range(len(lamda_ls)):\n",
    "    MAP_w = get_MAPw(Gphi, train_y, lamda_ls[i]) # 7,\n",
    "    # print(MAP_w) \n",
    "    MAPRMS = RMS(Gphi.dot(MAP_w), train_y)\n",
    "    MAPRMS_val = RMS(Gphi_val.dot(MAP_w), test_y)\n",
    "    \n",
    "    MAPRMS_ls.append(MAPRMS)\n",
    "    MAPRMS_val_ls.append(MAPRMS_val)\n",
    "    print('train RMS: {}'.format(MAPRMS))\n",
    "    print('test RMS: {}'.format(MAPRMS_val))\n",
    "\n",
    "\n",
    "plt.plot(lamda_ls, MAPRMS_ls, label='train')\n",
    "plt.plot(lamda_ls, MAPRMS_val_ls, label='validation')\n",
    "plt.xlabel('lamda')\n",
    "plt.ylabel('RMS')\n",
    "plt.legend(loc='best')\n",
    "plt.show()\n",
    "\n"
   ]
  },
  {
   "cell_type": "code",
   "execution_count": null,
   "metadata": {},
   "outputs": [],
   "source": []
  }
 ],
 "metadata": {
  "kernelspec": {
   "display_name": "Python 3",
   "language": "python",
   "name": "python3"
  },
  "language_info": {
   "codemirror_mode": {
    "name": "ipython",
    "version": 3
   },
   "file_extension": ".py",
   "mimetype": "text/x-python",
   "name": "python",
   "nbconvert_exporter": "python",
   "pygments_lexer": "ipython3",
   "version": "3.7.7"
  }
 },
 "nbformat": 4,
 "nbformat_minor": 4
}
